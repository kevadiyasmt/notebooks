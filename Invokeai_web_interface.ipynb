{
  "nbformat": 4,
  "nbformat_minor": 0,
  "metadata": {
    "colab": {
      "provenance": [],
      "gpuType": "T4"
    },
    "kernelspec": {
      "name": "python3",
      "display_name": "Python 3"
    },
    "language_info": {
      "name": "python"
    },
    "accelerator": "GPU"
  },
  "cells": [
    {
      "cell_type": "markdown",
      "source": [
        "# **NOTE: Copy to your drive and then run the steps one by one. (for nvidia gpu)**\n",
        "- if you are using this notebook locally then remove the google colab specific package imports and code"
      ],
      "metadata": {
        "id": "GsPpaO1w2L7c"
      }
    },
    {
      "cell_type": "code",
      "execution_count": null,
      "metadata": {
        "cellView": "form",
        "id": "47cfUP-7Y1zO"
      },
      "outputs": [],
      "source": [
        "#@title Check current GPU assigned\n",
        "!nvidia-smi -L\n",
        "!nvidia-smi"
      ]
    },
    {
      "cell_type": "code",
      "source": [
        "#@title 1. install / import packages (mandatory)\n",
        "\n",
        "#install\n",
        "!sudo apt install python3.10-venv\n",
        "!pip install pyngrok\n",
        "\n",
        "#import\n",
        "import os\n",
        "from google.colab import drive\n",
        "from IPython.utils import capture\n",
        "import ipywidgets as widgets\n",
        "import time\n",
        "import sys\n",
        "import fileinput\n",
        "from pyngrok import ngrok, conf\n",
        "import re\n",
        "from IPython.display import clear_output\n",
        "from IPython.utils import capture\n",
        "\n",
        "#functions\n",
        "def inf(msg, style, wdth):\n",
        "  inf = widgets.Button(description=msg, disabled=True, button_style=style, layout=widgets.Layout(min_width=wdth))\n",
        "  display(inf)\n",
        "\n",
        "clear_output()\n",
        "inf('\\u2714 Done','success', '50px')"
      ],
      "metadata": {
        "cellView": "form",
        "id": "FEHsNiseF9tg"
      },
      "execution_count": null,
      "outputs": []
    },
    {
      "cell_type": "code",
      "source": [
        "#@title 2. Initiate invokeai directory (mandatory)\n",
        "use_temp_storage = True #@param {type:\"boolean\"}\n",
        "#@markdown - **recommended to use temp storage instead of gdrive for performance**\n",
        "#@markdown - If not, make sure you have enough space on your gdrive as drive will be mounted.\n",
        "\n",
        "invoke_ai_folder = \"InvokeAi\" #@param {type:\"string\"}\n",
        "#@markdown - name of your existing folder or new folder to be created.\n",
        "\n",
        "if not use_temp_storage:\n",
        "  drive_path = '/content/drive'\n",
        "  drive.mount(drive_path)\n",
        "  invokeai_root_path = drive_path + '/MyDrive/' + invoke_ai_folder\n",
        "else:\n",
        "  invokeai_root_path = '/content/' + invoke_ai_folder\n",
        "\n",
        "if not os.path.exists(invokeai_root_path):\n",
        "  print(\"path \" + invokeai_root_path + \" does not exist. creating directory.\")\n",
        "  %mkdir $invokeai_root_path\n",
        "else:\n",
        "  print(\"existing directory found.\")\n",
        "\n",
        "%cd $invokeai_root_path\n",
        "\n",
        "clear_output()\n",
        "inf('\\u2714 Done','success', '50px')"
      ],
      "metadata": {
        "cellView": "form",
        "id": "z4FQlReyZZGs"
      },
      "execution_count": null,
      "outputs": []
    },
    {
      "cell_type": "code",
      "source": [
        "#@title 3. initiate invokeai env and install packages inside (Mandatory - will take time)\n",
        "!python -m venv .venv --prompt InvokeAI\n",
        "!source .venv/bin/activate\n",
        "!python -m pip install --upgrade pip\n",
        "!pip install \"InvokeAI[xformers]\" --use-pep517 --extra-index-url https://download.pytorch.org/whl/cu118\n",
        "clear_output()\n",
        "inf('\\u2714 Done','success', '50px')"
      ],
      "metadata": {
        "id": "OD9u_UyT1Ak4",
        "cellView": "form"
      },
      "execution_count": null,
      "outputs": []
    },
    {
      "cell_type": "code",
      "source": [
        "#@title 4. restart invokeai env (mandatory)\n",
        "!source .venv/bin/activate"
      ],
      "metadata": {
        "cellView": "form",
        "id": "TFtfz_yozHEn"
      },
      "execution_count": null,
      "outputs": []
    },
    {
      "cell_type": "code",
      "source": [
        "#@title 5. configure invoke ai (mandatory for first time)\n",
        "#@markdown - **(will take time if model download is not skipped)**\n",
        "#@markdown - **(run only once if you are using gdrive, as this would already be present in drive folder)**\n",
        "\n",
        "#@markdown 1. default install (--yes).\n",
        "default_install = True #@param {type:\"boolean\"}\n",
        "#@markdown - If yes, make sure you have enough space, as a lot of models will be downloaded if download is not skipped below.\n",
        "#@markdown ---\n",
        "#@markdown 2. skipping SD weights downloads (--skip-sd-weights).\n",
        "skip_sd_weights_download = True #@param {type:\"boolean\"}\n",
        "#@markdown - if yes, it will skip initial sd weights download (will save a huge amount of space)\n",
        "#@markdown ---\n",
        "#@markdown 3. skipping support models downloads (--skip-support-models).\n",
        "skip_support_models_download = False #@param {type:\"boolean\"}\n",
        "#@markdown - if yes, it will skip initial support models download (will save a huge amount of space)\n",
        "#@markdown - dont skip unless needed or you are aware of what you are doing.\n",
        "#@markdown ---\n",
        "#@markdown 4. setting root dir to current dir (--root .).\n",
        "root_dir = \"\" #@param {type:\"string\"}\n",
        "#@markdown - root directory, (leave empty if you are not aware of it, default will be considered)\n",
        "#@markdown ---\n",
        "\n",
        "\n",
        "command = f\"invokeai-configure {'--yes' if default_install else ''} {'--skip-sd-weights' if skip_sd_weights_download else ''} {'--skip-support-models' if skip_support_models_download else ''} --root {'.' if root_dir=='' else root_dir}\"\n",
        "# !invokeai-configure --yes --root .\n",
        "\n",
        "try:\n",
        "  !{command}\n",
        "  clear_output()\n",
        "  inf('\\u2714 Done','success', '50px')\n",
        "except Exception as e:\n",
        "  print(e)\n",
        "  inf('\\u2714 Failed','danger', '50px')"
      ],
      "metadata": {
        "id": "t6-b74rdzKu4",
        "cellView": "form"
      },
      "execution_count": null,
      "outputs": []
    },
    {
      "cell_type": "code",
      "source": [
        "#@title  6. Start tunnel\n",
        "\n",
        "Ngrok_token = \"\" #@param {type:\"string\"}\n",
        "#@markdown - insert your ngrok account auth token to be able to access invoke ai on a publicly accessible link.\n",
        "#@markdown - connects on local port: 9090 - tunnel - public\n",
        "#@markdown - link will be shown in output\n",
        "\n",
        "if Ngrok_token!=\"\":\n",
        "  ngrok.kill()\n",
        "  url=ngrok.connect(9090, pyngrok_config=conf.PyngrokConfig(auth_token=Ngrok_token) , bind_tls=True).public_url\n",
        "  print(\"ai will start soon at following link: \",url)"
      ],
      "metadata": {
        "cellView": "form",
        "id": "6ugfI75pbrnU"
      },
      "execution_count": null,
      "outputs": []
    },
    {
      "cell_type": "code",
      "source": [
        "#@title 7. Start invokeai (mandatory)\n",
        "!invokeai-web"
      ],
      "metadata": {
        "cellView": "form",
        "id": "0irXLU3hzrYW"
      },
      "execution_count": null,
      "outputs": []
    }
  ]
}